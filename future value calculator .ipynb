{
 "cells": [
  {
   "cell_type": "code",
   "execution_count": 9,
   "id": "dfaddffa",
   "metadata": {},
   "outputs": [
    {
     "name": "stdout",
     "output_type": "stream",
     "text": [
      "Future value calculater\n",
      "Enter your monthly investment:\t200\n",
      "Enter yearly intrest rate:\t5.9\n",
      "Enter number of years:\t\t20\n",
      "Future value:\t\t\t91770.14\n",
      "continue? (y , n)\t\ty\n",
      "Enter your monthly investment:\t150\n",
      "Enter yearly intrest rate:\t5.9\n",
      "Enter number of years:\t\t15\n",
      "Future value:\t\t\t43465.62\n",
      "continue? (y , n)\t\tn\n",
      "Thank you\n"
     ]
    }
   ],
   "source": [
    "def calculate_future_value(monthly_investment, yearly_intrest_rate, years):\n",
    "    \n",
    "    monthly_intrest_rate = yearly_intrest_rate / 12 / 100\n",
    "    months = years * 12\n",
    "    future_value = 0\n",
    "    \n",
    "    for i in range(0, months):\n",
    "        future_value += monthly_investment\n",
    "        monthly_intrest_amount = future_value * monthly_intrest_rate\n",
    "        future_value += monthly_intrest_amount\n",
    "        \n",
    "    return future_value\n",
    "\n",
    "def main():\n",
    "    print(\"Future value calculater\")\n",
    "    \n",
    "    choice = 'y'\n",
    "    while choice == 'y':\n",
    "        monthly_investment = float(input(\"Enter your monthly investment:\\t\"))\n",
    "        yearly_intrest_rate = float(input(\"Enter yearly intrest rate:\\t\"))\n",
    "        years = int(input(\"Enter number of years:\\t\\t\"))\n",
    "        \n",
    "        future_value = calculate_future_value(monthly_investment, yearly_intrest_rate, years)\n",
    "        \n",
    "        print(\"Future value:\\t\\t\\t\"+ str(round(future_value, 2)))\n",
    "        choice = input('continue? (y , n)\\t\\t')\n",
    "        \n",
    "    print(\"Thank you\")\n",
    "\n",
    "\n",
    "\n",
    "if __name__ == '__main__':\n",
    "    main()"
   ]
  },
  {
   "cell_type": "code",
   "execution_count": null,
   "id": "9d2a0713",
   "metadata": {},
   "outputs": [],
   "source": []
  },
  {
   "cell_type": "code",
   "execution_count": null,
   "id": "74d8d223",
   "metadata": {},
   "outputs": [],
   "source": []
  }
 ],
 "metadata": {
  "kernelspec": {
   "display_name": "Python 3 (ipykernel)",
   "language": "python",
   "name": "python3"
  },
  "language_info": {
   "codemirror_mode": {
    "name": "ipython",
    "version": 3
   },
   "file_extension": ".py",
   "mimetype": "text/x-python",
   "name": "python",
   "nbconvert_exporter": "python",
   "pygments_lexer": "ipython3",
   "version": "3.11.4"
  }
 },
 "nbformat": 4,
 "nbformat_minor": 5
}
